{
 "cells": [
  {
   "cell_type": "code",
   "execution_count": 1,
   "metadata": {},
   "outputs": [],
   "source": [
    "# Import necessary libraries\n",
    "%matplotlib widget\n",
    "import numpy as np\n",
    "import matplotlib.pyplot as plt\n",
    "from matplotlib.animation import FuncAnimation\n",
    "from tqdm import tqdm\n",
    "import time"
   ]
  },
  {
   "cell_type": "code",
   "execution_count": 2,
   "metadata": {},
   "outputs": [],
   "source": [
    "class ArmedBanditsEnv():\n",
    "    \"\"\"\n",
    "    num_expt -> number of experiments \n",
    "    num_slots -> available slots that can transmit data based on availablility\n",
    "    p_values -> num_expts x num_slots matrix containing p-values for availability of slot\n",
    "    action -> num_expts x num_slots array denoting the order of checking slots for availability for each expt\n",
    "    \"\"\"\n",
    "    \n",
    "    def __init__(self, p_values):\n",
    "        assert len(p_values.shape) == 2\n",
    "        \n",
    "        self.num_slots = p_values.shape[1]\n",
    "        self.num_expts = p_values.shape[0]\n",
    "        self.state = np.zeros((self.num_expts,self.num_slots))\n",
    "        \n",
    "        self.p_values = p_values\n",
    "    \n",
    "        \n",
    "    def step(self, action_type, action):\n",
    "        \n",
    "        # Sample from the specified slot using it's bernoulli distribution\n",
    "        assert (action.shape == (self.num_expts,self.num_slots))\n",
    "        \n",
    "        sampled_state = np.random.binomial(n=1, p=self.p_values)\n",
    "\n",
    "        self.state = sampled_state\n",
    "\n",
    "        cost = np.zeros((self.num_expts, 1))\n",
    "\n",
    "        for j in range(self.num_expts):\n",
    "            # Get the relevant actions and their indices for the current experiment\n",
    "            if action_type[j]==0:\n",
    "                cost[j]=self.num_slots\n",
    "            else:\n",
    "                actions = np.array(action[j]) - 1  # Adjust for zero-based indexing\n",
    "                relevant_states = sampled_state[j, actions]\n",
    "                # Find the index of the first occurrence of 1, if any\n",
    "                indices = np.where(relevant_states == 1)[0]\n",
    "                if indices.size > 0:\n",
    "                    first_one_index = indices[0]\n",
    "                else:\n",
    "                    first_one_index = len(actions)\n",
    "                # Calculate the cost\n",
    "                cost[j] = first_one_index\n",
    "        \n",
    "        # Return a constant state of 0. Our environment has no terminal state\n",
    "        observation, done, info = 0, False, dict()\n",
    "        return cost,self.state, done, info\n",
    "    \n",
    "    def reset(self):\n",
    "        return 0\n",
    "        \n",
    "    def render(self, mode='human', close=False):\n",
    "        pass\n",
    "    \n",
    "    def _seed(self, seed=None):\n",
    "        self.np_random, seed = seeding.np.random(seed)\n",
    "        return [seed]\n",
    "    \n",
    "    def close(self):\n",
    "        pass\n",
    "    \n",
    "    \n",
    "class ArmedBanditsBernoulli(ArmedBanditsEnv):\n",
    "    def __init__(self, num_expts=1, num_slots=5):\n",
    "        self.p_values = np.random.uniform(0, 1, (num_expts, num_slots))\n",
    "        \n",
    "        ArmedBanditsEnv.__init__(self, self.p_values)"
   ]
  },
  {
   "cell_type": "code",
   "execution_count": 7,
   "metadata": {},
   "outputs": [
    {
     "name": "stdout",
     "output_type": "stream",
     "text": [
      "State: [[0 0 0 0]] on Order: [[3 2 1 4]]  gave a cost of: [4.]\n",
      "State: [[1 0 0 0]] on Order: [[1 3 2 4]]  gave a cost of: [0.]\n",
      "State: [[0 0 1 0]] on Order: [[4 1 2 3]]  gave a cost of: [3.]\n",
      "State: [[0 0 1 0]] on Order: [[1 2 4 3]]  gave a cost of: [3.]\n"
     ]
    }
   ],
   "source": [
    "p_values = np.array([[0.1, 0.4, 0.2, 0.3]]) # The p_values for a four-slot channel. Single experiment\n",
    "\n",
    "env = ArmedBanditsEnv(p_values) # Create the environment\n",
    "\n",
    "for i in range(4):\n",
    "    action = np.random.choice(range(1, 5), size=(1,4), replace=False)\n",
    "    cost,state, _, _ = env.step([1],action)\n",
    "    print(\"State:\",state ,\"on Order:\", action, \" gave a cost of:\",cost[0])"
   ]
  },
  {
   "cell_type": "code",
   "execution_count": 8,
   "metadata": {},
   "outputs": [],
   "source": [
    "def inc_p(prev_p, new_val, n):\n",
    "    return (prev_p*(n-1) + new_val)/n\n",
    "inc_p_vect = np.vectorize(inc_p)\n"
   ]
  },
  {
   "cell_type": "markdown",
   "metadata": {},
   "source": [
    "## THE GREEDY AGENT\n",
    "\n",
    "It can be derived directly from greedy epsilon agent created later."
   ]
  },
  {
   "cell_type": "code",
   "execution_count": 9,
   "metadata": {},
   "outputs": [],
   "source": [
    "def greedy_order(estimates):\n",
    "    \"\"\"\n",
    "    Takes in an array of estimates of num_expts x num_slots and returns the order\n",
    "    of slots with the decreasing estimated p_value for each row. \n",
    "    Breaks ties randomly by introducing a small random noise.\n",
    "    \"\"\"\n",
    "    if estimates.ndim == 1:\n",
    "        sorted_indices = sort_with_noise(estimates)\n",
    "    else:\n",
    "        sorted_indices = np.apply_along_axis(sort_with_noise, 1, estimates)\n",
    "    return sorted_indices\n",
    "\n",
    "def sort_with_noise(row):\n",
    "    # Identifying unique values and their counts\n",
    "    unique, counts = np.unique(row, return_counts=True)\n",
    "    \n",
    "    # Only add noise to elements where there are ties\n",
    "    for value, count in zip(unique, counts):\n",
    "        if count > 1:\n",
    "            noise = np.random.normal(0, 1e-6, count)  # Small noise\n",
    "            indices = row == value\n",
    "            row[indices] += noise\n",
    "\n",
    "    # Sort the indices after adding noise\n",
    "    sorted_indices = np.argsort(-row) + 1\n",
    "    return sorted_indices\n",
    "\n",
    "\n"
   ]
  },
  {
   "cell_type": "code",
   "execution_count": 10,
   "metadata": {},
   "outputs": [
    {
     "name": "stdout",
     "output_type": "stream",
     "text": [
      "[1 2 4 3]\n",
      "[[2 4 1 3]\n",
      " [1 4 2 3]]\n"
     ]
    }
   ],
   "source": [
    "estimates_1d = np.array([0.2, 0.2, 0.07, 0.1])\n",
    "print(greedy_order(estimates_1d))\n",
    "\n",
    "estimates_2d = np.array([[0.1, 0.3, 0.05, 0.2], [0.4, 0.2, 0.1, 0.3]])\n",
    "print(greedy_order(estimates_2d))"
   ]
  },
  {
   "cell_type": "markdown",
   "metadata": {},
   "source": [
    "## Epsilon-Greedy Agent"
   ]
  },
  {
   "cell_type": "code",
   "execution_count": 11,
   "metadata": {},
   "outputs": [],
   "source": [
    "class EpsilonGreedyAgent():\n",
    "    def __init__(self, estimates, epsilon):\n",
    "        \n",
    "        # Store the epsilon value\n",
    "        assert epsilon >= 0 and epsilon <= 1\n",
    "        assert len(estimates.shape) == 2\n",
    "        \n",
    "        self.num_slots = estimates.shape[1]\n",
    "        self.num_expts = estimates.shape[0]\n",
    "        self.estimates = estimates.astype(np.float64)\n",
    "        self.action_count = np.zeros(estimates.shape)\n",
    "        self.epsilon = epsilon\n",
    "        \n",
    "    \n",
    "    def get_action(self):\n",
    "        # We need to redefine this function so that it takes an exploratory action with epsilon probability\n",
    "        \n",
    "        # One hot encoding: 0 if exploratory, 1 otherwise\n",
    "        action_type = (np.random.random_sample(self.num_expts) > self.epsilon).astype(int).reshape(-1,1)\n",
    "        \n",
    "        # Generate both types of actions for every experiment\n",
    "        exploratory_action = np.tile(np.arange(1, num_slots + 1), (num_expts, 1))\n",
    "        greedy_action = greedy_order(self.estimates)\n",
    "        # Use the one hot encoding to mask the actions for each experiment\n",
    "        action = greedy_action * action_type + exploratory_action * (1 - action_type)\n",
    "        \n",
    "        return action_type,action\n",
    "    \n",
    "    def update_estimates(self, cost, state, action_type, action):\n",
    "        for j in range(self.num_expts):\n",
    "            if action_type[j]==0:\n",
    "                # Increment action_count for all slots\n",
    "                self.action_count[j] += 1\n",
    "        \n",
    "                # Apply the vectorized inc_p function to the entire row\n",
    "                n = self.action_count[j]\n",
    "                self.estimates[j] = inc_p(self.estimates[j], state[j], n)\n",
    "            else:\n",
    "\n",
    "                num_expts, num_slots = action.shape\n",
    "\n",
    "            \n",
    "                c = int(cost[j][0])\n",
    "                changed = action[j][:c]-1\n",
    "\n",
    "                # Update the estimates and counts for the changed actions\n",
    "                self.action_count[j, changed] += 1\n",
    "\n",
    "                self.estimates[j, changed] = inc_p(self.estimates[j, changed], 0, self.action_count[j, changed])\n",
    "\n",
    "                # Update the estimates and counts for the not-changed action, if it exists\n",
    "                if c < num_slots:\n",
    "                    self.action_count[j, c] += 1\n",
    "                    self.estimates[j, c] = inc_p(self.estimates[j, c], 1, self.action_count[j, c])\n",
    "            \n",
    "             \n",
    "        "
   ]
  },
  {
   "cell_type": "code",
   "execution_count": 14,
   "metadata": {},
   "outputs": [
    {
     "data": {
      "application/vnd.jupyter.widget-view+json": {
       "model_id": "1f1fd18b6dee4e88984f43f265ca80af",
       "version_major": 2,
       "version_minor": 0
      },
      "image/png": "[encoded data removed]",
      "text/html": [
       "\n",
       "            <div style=\"display: inline-block;\">\n",
       "                <div class=\"jupyter-widgets widget-label\" style=\"text-align: center;\">\n",
       "                    Figure\n",
       "                </div>\n",
       "                <img src='data:image/png;base64,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' width=1000.0/>\n",
       "            </div>\n",
       "        "
      ],
      "text/plain": [
       "Canvas(toolbar=Toolbar(toolitems=[('Home', 'Reset original view', 'home', 'home'), ('Back', 'Back to previous …"
      ]
     },
     "metadata": {},
     "output_type": "display_data"
    }
   ],
   "source": [
    "# Initialize environment and agent\n",
    "num_expts = 2\n",
    "num_slots = 5\n",
    "num_steps = 100\n",
    "p_values = np.random.rand(num_expts, num_slots)\n",
    "\n",
    "env = ArmedBanditsEnv(p_values)\n",
    "agent = EpsilonGreedyAgent(np.zeros((num_expts, num_slots)),0.1)\n",
    "\n",
    "# Plotting setup\n",
    "fig, axs = plt.subplots(1, num_expts, figsize=(10, 4))\n",
    "x_pos = np.arange(num_slots)\n",
    "\n",
    "def init():\n",
    "    for i in range(num_expts):\n",
    "        init_ax(i)\n",
    "\n",
    "def init_ax(i):\n",
    "    ax = axs if num_expts == 1 else axs[i]\n",
    "    ax.clear()\n",
    "    ax.set_ylim(-4, 4)\n",
    "    ax.set_xlim(-0.5, num_slots-.5)\n",
    "    ax.set_xlabel('Slots', fontsize=14)\n",
    "    ax.set_ylabel('P-Value', fontsize=14)\n",
    "    ax.set_title(label='Estimated Values vs. Real values', fontsize=15)\n",
    "    ax.plot(x_pos, env.p_values[i], marker='D', linestyle='', alpha=0.8, color='r', label='Real Values')\n",
    "    ax.axhline(0, color='black', lw=1)\n",
    "\n",
    "def step(g):\n",
    "    action_type,action = agent.get_action()\n",
    "    cost,state,_,_ = env.step(action_type,action)\n",
    "    agent.update_estimates(cost,state,action_type,action)\n",
    "    for i in range(num_expts):\n",
    "        ax = axs if num_expts == 1 else axs[i]\n",
    "        # [Rest of the step function code]\n",
    "        estimates = agent.estimates[i]\n",
    "        init_ax(i)\n",
    "        values = ax.bar(x_pos, estimates, align='center', color='blue', alpha=0.4, label='Estimated Values')\n",
    "        ax.legend()\n",
    "\n",
    "anim = FuncAnimation(fig, func=step, frames=num_steps, init_func=init, interval=10, repeat=False, blit=True)\n",
    "plt.show()\n",
    "\n"
   ]
  },
  {
   "cell_type": "markdown",
   "metadata": {},
   "source": [
    "Greedy agent is derived by taking epsilon as 0"
   ]
  },
  {
   "cell_type": "code",
   "execution_count": 13,
   "metadata": {},
   "outputs": [
    {
     "name": "stderr",
     "output_type": "stream",
     "text": [
      "c:\\Users\\Dell\\miniconda3\\envs\\bandits\\lib\\site-packages\\matplotlib\\animation.py:892: UserWarning: Animation was deleted without rendering anything. This is most likely not intended. To prevent deletion, assign the Animation to a variable, e.g. `anim`, that exists until you output the Animation using `plt.show()` or `anim.save()`.\n",
      "  warnings.warn(\n"
     ]
    },
    {
     "data": {
      "application/vnd.jupyter.widget-view+json": {
       "model_id": "387c970e948b4c16934298374e57aca1",
       "version_major": 2,
       "version_minor": 0
      },
      "image/png": "[encoded data removed]",
      "text/html": [
       "\n",
       "            <div style=\"display: inline-block;\">\n",
       "                <div class=\"jupyter-widgets widget-label\" style=\"text-align: center;\">\n",
       "                    Figure\n",
       "                </div>\n",
       "                <img src='data:image/png;base64,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' width=1000.0/>\n",
       "            </div>\n",
       "        "
      ],
      "text/plain": [
       "Canvas(toolbar=Toolbar(toolitems=[('Home', 'Reset original view', 'home', 'home'), ('Back', 'Back to previous …"
      ]
     },
     "metadata": {},
     "output_type": "display_data"
    }
   ],
   "source": [
    "# Initialize environment and agent\n",
    "num_expts = 2\n",
    "num_slots = 5\n",
    "num_steps = 100\n",
    "p_values = np.random.rand(num_expts, num_slots)\n",
    "\n",
    "env = ArmedBanditsEnv(p_values)\n",
    "agent = EpsilonGreedyAgent(np.zeros((num_expts, num_slots)),0)\n",
    "\n",
    "# Plotting setup\n",
    "fig, axs = plt.subplots(1, num_expts, figsize=(10, 4))\n",
    "x_pos = np.arange(num_slots)\n",
    "\n",
    "def init():\n",
    "    for i in range(num_expts):\n",
    "        init_ax(i)\n",
    "\n",
    "def init_ax(i):\n",
    "    ax = axs if num_expts == 1 else axs[i]\n",
    "    ax.clear()\n",
    "    ax.set_ylim(-4, 4)\n",
    "    ax.set_xlim(-0.5, num_slots-.5)\n",
    "    ax.set_xlabel('Slots', fontsize=14)\n",
    "    ax.set_ylabel('P-Value', fontsize=14)\n",
    "    ax.set_title(label='Estimated Values vs. Real values', fontsize=15)\n",
    "    ax.plot(x_pos, env.p_values[i], marker='D', linestyle='', alpha=0.8, color='r', label='Real Values')\n",
    "    ax.axhline(0, color='black', lw=1)\n",
    "\n",
    "def step(g):\n",
    "    action_type,action = agent.get_action()\n",
    "    cost,state,_,_ = env.step(action_type,action)\n",
    "    agent.update_estimates(cost,state,action_type,action)\n",
    "    for i in range(num_expts):\n",
    "        ax = axs if num_expts == 1 else axs[i]\n",
    "        # [Rest of the step function code]\n",
    "        estimates = agent.estimates[i]\n",
    "        init_ax(i)\n",
    "        values = ax.bar(x_pos, estimates, align='center', color='blue', alpha=0.4, label='Estimated Values')\n",
    "        ax.legend()\n",
    "\n",
    "anim = FuncAnimation(fig, func=step, frames=num_steps, init_func=init, interval=10, repeat=False, blit=True)\n",
    "plt.show()\n",
    "\n"
   ]
  },
  {
   "cell_type": "code",
   "execution_count": null,
   "metadata": {},
   "outputs": [],
   "source": []
  }
 ],
 "metadata": {
  "kernelspec": {
   "display_name": "bandits",
   "language": "python",
   "name": "python3"
  },
  "language_info": {
   "codemirror_mode": {
    "name": "ipython",
    "version": 3
   },
   "file_extension": ".py",
   "mimetype": "text/x-python",
   "name": "python",
   "nbconvert_exporter": "python",
   "pygments_lexer": "ipython3",
   "version": "3.9.18"
  }
 },
 "nbformat": 4,
 "nbformat_minor": 2
}
