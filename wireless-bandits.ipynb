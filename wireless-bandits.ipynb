{
 "cells": [
  {
   "cell_type": "code",
   "execution_count": 1,
   "metadata": {},
   "outputs": [],
   "source": [
    "# Import necessary libraries\n",
    "%matplotlib widget\n",
    "import numpy as np\n",
    "import matplotlib.pyplot as plt\n",
    "from matplotlib.animation import FuncAnimation\n",
    "from tqdm import tqdm\n",
    "import time"
   ]
  },
  {
   "cell_type": "code",
   "execution_count": 3,
   "metadata": {},
   "outputs": [],
   "source": [
    "class ArmedBanditsEnv():\n",
    "    \"\"\"\n",
    "    num_expt -> number of experiments \n",
    "    num_slots -> available slots that can transmit data based on availablility\n",
    "    p_values -> num_expts x num_slots matrix containing p-values for availability of slot\n",
    "    action -> num_expts x num_slots array denoting the order of checking slots for availability for each expt\n",
    "    \"\"\"\n",
    "    \n",
    "    def __init__(self, p_values):\n",
    "        assert len(p_values.shape) == 2\n",
    "        \n",
    "        self.num_slots = p_values.shape[1]\n",
    "        self.num_expts = p_values.shape[0]\n",
    "        \n",
    "        self.p_values = p_values\n",
    "        \n",
    "    def step(self, action):\n",
    "        \n",
    "        # Sample from the specified slot using it's bernoulli distribution\n",
    "        assert (action.shape == (self.num_expts,self.num_slots))\n",
    "        \n",
    "        sampled_state = np.random.binomial(n=1, p=self.p_values)\n",
    "\n",
    "        # Convert action to a zero-based index\n",
    "        action = [np.array(a) - 1 for a in action]\n",
    "\n",
    "        # Create a mask with the size of the largest action list\n",
    "        max_action_length = max(len(a) for a in action)\n",
    "        mask = np.full((self.num_expts, max_action_length), -1)\n",
    "\n",
    "        # Fill the mask with the indices from action\n",
    "        for i, a in enumerate(action):\n",
    "            mask[i, :len(a)] = a\n",
    "\n",
    "        # Use advanced indexing to select the relevant elements from sampled_state\n",
    "        relevant_states = np.take_along_axis(sampled_state, mask, axis=1)\n",
    "\n",
    "        # Find the index of the first '1' in each row, else the row length\n",
    "        cost = np.argmax((relevant_states == 1) | (mask == -1), axis=1).reshape(-1, 1)\n",
    "        \n",
    "        # Return a constant state of 0. Our environment has no terminal state\n",
    "        observation, done, info = 0, False, dict()\n",
    "        return observation, cost, done, info\n",
    "    \n",
    "    def reset(self):\n",
    "        return 0\n",
    "        \n",
    "    def render(self, mode='human', close=False):\n",
    "        pass\n",
    "    \n",
    "    def _seed(self, seed=None):\n",
    "        self.np_random, seed = seeding.np.random(seed)\n",
    "        return [seed]\n",
    "    \n",
    "    def close(self):\n",
    "        pass\n",
    "    \n",
    "    \n",
    "class ArmedBanditsBernoulli(ArmedBanditsEnv):\n",
    "    def __init__(self, num_expts=1, num_slots=5):\n",
    "        self.p_values = np.random.uniform(0, 1, (num_expts, num_slots))\n",
    "        \n",
    "        ArmedBanditsEnv.__init__(self, self.p_values)"
   ]
  },
  {
   "cell_type": "code",
   "execution_count": 6,
   "metadata": {},
   "outputs": [
    {
     "name": "stdout",
     "output_type": "stream",
     "text": [
      "Order: [[2 4 1 3]]  gave a cost of: [0]\n",
      "Order: [[1 2 4 3]]  gave a cost of: [0]\n",
      "Order: [[2 3 1 4]]  gave a cost of: [0]\n",
      "Order: [[2 3 1 4]]  gave a cost of: [0]\n"
     ]
    }
   ],
   "source": [
    "p_values = np.array([[1.0, 1.0, 1.0, 1.0]]) # The p_values for a four-slot channel. Single experiment\n",
    "\n",
    "env = ArmedBanditsEnv(p_values) # Create the environment\n",
    "\n",
    "for i in range(4):\n",
    "    action = np.random.choice(range(1, 5), size=(1,4), replace=False)\n",
    "    _, cost, _, _ = env.step(action)\n",
    "    print(\"Order:\", action, \" gave a cost of:\",cost[0])"
   ]
  },
  {
   "cell_type": "code",
   "execution_count": null,
   "metadata": {},
   "outputs": [],
   "source": []
  }
 ],
 "metadata": {
  "kernelspec": {
   "display_name": "bandits",
   "language": "python",
   "name": "python3"
  },
  "language_info": {
   "codemirror_mode": {
    "name": "ipython",
    "version": 3
   },
   "file_extension": ".py",
   "mimetype": "text/x-python",
   "name": "python",
   "nbconvert_exporter": "python",
   "pygments_lexer": "ipython3",
   "version": "3.9.18"
  }
 },
 "nbformat": 4,
 "nbformat_minor": 2
}
